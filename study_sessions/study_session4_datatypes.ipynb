{
 "cells": [
  {
   "cell_type": "markdown",
   "metadata": {},
   "source": [
    "## Study session 4 - Data types - strings and lists\n",
    "### BIOINF 575 - Fall 2020\n"
   ]
  },
  {
   "cell_type": "markdown",
   "metadata": {},
   "source": [
    "\n",
    "Documentation on data types:   \n",
    "https://docs.python.org/3/library/stdtypes.html  \n",
    "Check the precedence of operators in the documentation at the following link:     \n",
    "https://docs.python.org/3/reference/expressions.html#operator-precedence\n",
    "\n",
    "```python\n",
    "dir(<datatype>)\n",
    "help(<datatype>.<function>)\n",
    "```\n"
   ]
  },
  {
   "cell_type": "markdown",
   "metadata": {},
   "source": [
    "_____\n",
    "### <font color = \"red\">Exercise</font> \n",
    "Peptides are short chains of between two and fifty amino acids, linked by peptide bonds. Chains of fewer than ten or fifteen amino acids are called oligopeptides.\n",
    "https://en.wikipedia.org/wiki/Peptide\n",
    "\n",
    "<img src = \"https://pixy.org/src/37/thumbs350/372053.jpg\" width = \"300\"/>\n",
    "\n",
    "https://pixy.org/372053/\n",
    "\n",
    "We have a text containing a series of peptides separated by space.\n",
    "\n",
    "```python\n",
    "peptides_sequence = \"MAAGGSGAESAPPTPSMSSLPLAALNVRVRHRLSLFLNVRTQVAADWTGLAEEM NFEYLEIRRLETHPDPTRSLLDDWQGRPGASVGRLLELLAKLGRDDVLVELGPS IEEDCRKYILKQQQEAAEKPLQVDSVDSSIPWMSGITIRDDPLGQMPEHFDAFI CYCPSDIQFVQEMIRQLEQTNYRLKLCVSDRDVLPGTCVWSIASELIEKRCRRM VVVVSDDYLQSKECDFQTKFALSLSPGAHQKRLIPVKYKSMKKEFPSILRFITV CDYTNPCTKSWFWTRLARALSLP\"\n",
    "```\n",
    "\n",
    "- Count the number of Glutamine elements in the third peptide.\n",
    "- Display the sequence of the third peptide with the first 4 and last 4 characters swapped. \n"
   ]
  },
  {
   "cell_type": "code",
   "execution_count": null,
   "metadata": {},
   "outputs": [],
   "source": []
  },
  {
   "cell_type": "markdown",
   "metadata": {},
   "source": [
    "____\n",
    "### <font color = \"red\">Exercise</font>\n",
    "\n",
    "Given the peptides_sequence from the previous exercise\n",
    "\n",
    "- Take the sequence of the first peptide from the peptides_sequence and swap Serine with Leucine and Proline with Arginine. \n",
    "- From the new sequence (that has the amino acids swapped) retrieve the sequence that starts with the the first Leucine and ends with the first Proline  \n",
    "- Create a new text contining the peptides sequence with the sequence computed at the previous point inserted as the 3rd peptide\n",
    "\n"
   ]
  },
  {
   "cell_type": "markdown",
   "metadata": {},
   "source": [
    "_______\n",
    "### <font color = \"red\">Exercise</font> \n",
    "\n",
    "Explain what the following code does and decsribes how it computes the result it displays:\n"
   ]
  },
  {
   "cell_type": "code",
   "execution_count": null,
   "metadata": {},
   "outputs": [],
   "source": [
    "(peptides_sequence.split(\" \") + [\"QSKECDFQTKFA\"])[::-1][:4][2].count(\"V\")"
   ]
  },
  {
   "cell_type": "markdown",
   "metadata": {},
   "source": [
    "The code above does the following:\n",
    "\n",
    "- Step 1:\n",
    "- Step 2:\n",
    "- Step 3:"
   ]
  },
  {
   "cell_type": "code",
   "execution_count": null,
   "metadata": {},
   "outputs": [],
   "source": []
  }
 ],
 "metadata": {
  "kernelspec": {
   "display_name": "Python 3",
   "language": "python",
   "name": "python3"
  },
  "language_info": {
   "codemirror_mode": {
    "name": "ipython",
    "version": 3
   },
   "file_extension": ".py",
   "mimetype": "text/x-python",
   "name": "python",
   "nbconvert_exporter": "python",
   "pygments_lexer": "ipython3",
   "version": "3.8.3"
  }
 },
 "nbformat": 4,
 "nbformat_minor": 4
}
