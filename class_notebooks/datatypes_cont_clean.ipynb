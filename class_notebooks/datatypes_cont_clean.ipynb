{
 "cells": [
  {
   "cell_type": "markdown",
   "metadata": {},
   "source": [
    "## Data types and data structures - continued\n",
    "### BIOINF 575 - Fall 2020"
   ]
  },
  {
   "cell_type": "markdown",
   "metadata": {},
   "source": [
    "Typing is dynamic but strict in python (objects have type).<br><br>\n",
    "The principal built-in types are numerics, sequences, mappings, classes, instances and exceptions.<br>\n",
    "Numeric Types — int (subtype: bool), float, complex.<br>\n",
    "Sequence Types — string, list, tuple, range.<br><br>\n",
    "There are two major categories: mutable and immutable types.<br>\n",
    "<b>Immutable</b> variables <b>cannot be changed</b>, while <b>Mutable</b> variables <b>can be changed</b>.<br>\n",
    "Integer, Floats, Strings, Tuples, Boolean are immutable.<br>\n",
    "List are mutable types.<br>\n",
    "\n",
    "https://docs.python.org/3/library/stdtypes.html\n"
   ]
  },
  {
   "cell_type": "markdown",
   "metadata": {},
   "source": [
    "Check/display the <b>type of a variable</b> with the function <b>type()</b>."
   ]
  },
  {
   "cell_type": "markdown",
   "metadata": {},
   "source": [
    "<b>No automatic coercion of  types, explicit conversion only</b><br>\n",
    "Exception: <b>print()</b> - converts to strings where possible.\n",
    "\n",
    "________\n",
    "\n"
   ]
  },
  {
   "cell_type": "markdown",
   "metadata": {},
   "source": [
    "List/check the functions and attributes available for a data type or a variable <b>dir(\\<funtion_name or variable\\>)</b><br>\n",
    "Functions preceeded by \\_\\_ (e.g. \\_\\_lt\\_\\_ - less than) are special internal functions used by python functions and operators.\n",
    "    \n",
    "Example:\n",
    "```python\n",
    "dir(str)\n",
    "```\n",
    "    \n",
    "________________\n",
    "    "
   ]
  },
  {
   "cell_type": "markdown",
   "metadata": {},
   "source": [
    "### Sequence types: <b>String</b>, <b>List</b>, and <b>Tuple</b> - are iterable"
   ]
  },
  {
   "cell_type": "markdown",
   "metadata": {},
   "source": [
    "________________\n",
    "\n",
    "### String\n",
    "Sequence of characters - immutable"
   ]
  },
  {
   "cell_type": "markdown",
   "metadata": {},
   "source": [
    "<img src='https://media.geeksforgeeks.org/wp-content/cdn-uploads/20200204160843/strings.jpg' width=\"500\"/>\n",
    "\n",
    "https://www.geeksforgeeks.org/python-strings/\n",
    "\n",
    "An Introduction to Programming for Bioscientists: A Python-Based Primer   \n",
    "https://journals.plos.org/ploscompbiol/article?id=10.1371/journal.pcbi.1004867\n"
   ]
  },
  {
   "cell_type": "markdown",
   "metadata": {},
   "source": [
    "Concatenation (+ operator)"
   ]
  },
  {
   "cell_type": "code",
   "execution_count": null,
   "metadata": {},
   "outputs": [],
   "source": [
    "\"Complex \" + 'text'"
   ]
  },
  {
   "cell_type": "markdown",
   "metadata": {},
   "source": [
    "Repetition (* operator)"
   ]
  },
  {
   "cell_type": "code",
   "execution_count": null,
   "metadata": {},
   "outputs": [],
   "source": [
    "\"hi\"*3"
   ]
  },
  {
   "cell_type": "markdown",
   "metadata": {},
   "source": [
    "Simple, double or triple quotes:"
   ]
  },
  {
   "cell_type": "code",
   "execution_count": null,
   "metadata": {},
   "outputs": [],
   "source": []
  },
  {
   "cell_type": "code",
   "execution_count": null,
   "metadata": {},
   "outputs": [],
   "source": []
  },
  {
   "cell_type": "code",
   "execution_count": null,
   "metadata": {},
   "outputs": [],
   "source": []
  },
  {
   "cell_type": "code",
   "execution_count": null,
   "metadata": {},
   "outputs": [],
   "source": [
    "'''\n",
    "I am testing the \n",
    "triple quotes - a comment\n",
    "'''\n",
    "# this is a COMMENT\n",
    "test_message = "
   ]
  },
  {
   "cell_type": "code",
   "execution_count": null,
   "metadata": {},
   "outputs": [],
   "source": []
  },
  {
   "cell_type": "markdown",
   "metadata": {},
   "source": [
    "<b>Common Sequence operations</b>\n",
    "<br>\n",
    "\n",
    "Operation Description:<br><br>\n",
    "<b>x in s</b>\n",
    "True if an item of s is equal to x, else False\n",
    "\n",
    "<b>x not in s</b>\n",
    "False if an item of s is equal to x, else True\n",
    "\n",
    "<b>s + t</b>\n",
    "the concatenation of s and t\n",
    "\n",
    "<b>s * n or n * s</b>\n",
    "equivalent to adding s to itself n times\n",
    "\n",
    "<b>s[i]</b>\n",
    "ith item of s, origin 0\n",
    "\n",
    "<b>s[i:j]</b>\n",
    "slice of s from i to j\n",
    "\n",
    "<b>s[i:j:k]</b>\n",
    "slice of s from i to j with step k\n",
    "\n",
    "<b>len(s)</b>\n",
    "length of s\n",
    "\n",
    "<b>min(s)</b>\n",
    "smallest item of s\n",
    "\n",
    "<b>max(s)</b>\n",
    "largest item of s\n",
    "\n",
    "<b>s.index(x[, i[, j]])</b>\n",
    "index of the first occurrence of x in s (at or after index i and before index j)\n",
    "\n",
    "<b>s.count(x)</b>\n",
    "total number of occurrences of x in s"
   ]
  },
  {
   "cell_type": "code",
   "execution_count": null,
   "metadata": {},
   "outputs": [],
   "source": [
    "#in\n"
   ]
  },
  {
   "cell_type": "code",
   "execution_count": null,
   "metadata": {},
   "outputs": [],
   "source": [
    "#subsetting - start (from 0 included): end (not included): step\n"
   ]
  },
  {
   "cell_type": "code",
   "execution_count": null,
   "metadata": {},
   "outputs": [],
   "source": [
    "\"rep\"*4"
   ]
  },
  {
   "cell_type": "code",
   "execution_count": null,
   "metadata": {},
   "outputs": [],
   "source": [
    "#min max ord chr - characters and strings (text) is compared using the alphabetical order\n"
   ]
  },
  {
   "cell_type": "code",
   "execution_count": null,
   "metadata": {},
   "outputs": [],
   "source": []
  },
  {
   "cell_type": "code",
   "execution_count": null,
   "metadata": {},
   "outputs": [],
   "source": []
  },
  {
   "cell_type": "code",
   "execution_count": null,
   "metadata": {},
   "outputs": [],
   "source": [
    "#len\n"
   ]
  },
  {
   "cell_type": "code",
   "execution_count": null,
   "metadata": {},
   "outputs": [],
   "source": [
    "#index \n"
   ]
  },
  {
   "cell_type": "code",
   "execution_count": null,
   "metadata": {},
   "outputs": [],
   "source": [
    "#count\n"
   ]
  },
  {
   "cell_type": "markdown",
   "metadata": {},
   "source": [
    "#### Subsetting s[i:j:k]\n",
    "\n",
    "If i or j is negative, the index is relative to the end of sequence s: len(s) + i or len(s) + j is substituted. But note that -0 is still 0.\n",
    "\n",
    "The slice of s from i to j is defined as the sequence of items with index k such that i <= k < j. <br>\n",
    "If i or j is greater than len(s), use len(s). <br>\n",
    "If i is omitted or None, use 0. <br>\n",
    "If j is omitted or None, use len(s). <br>\n",
    "If i is greater than or equal to j, the slice is empty.<br>\n",
    "\n",
    "The slice of s from i to j with step k is defined as the sequence of items with index x = i + n\\*k such that 0 <= n < (j-i)/k. <br>\n",
    "In other words, the indices are i, i+k, i+2\\*k, i+3\\*k and so on, stopping when j is reached (but never including j). <br>\n",
    "When k is positive, i and j are reduced to len(s) if they are greater. <br>\n",
    "When k is negative, i and j are reduced to len(s) - 1 if they are greater. <br>\n",
    "If i or j are omitted or None, they become “end” values (which end depends on the sign of k). <br>\n",
    "Note, k cannot be zero. <br>\n",
    "If k is None, it is treated like 1.<br>\n",
    "\n",
    "https://docs.python.org/3/library/stdtypes.html\n"
   ]
  },
  {
   "cell_type": "code",
   "execution_count": null,
   "metadata": {},
   "outputs": [],
   "source": [
    "#more subsetting\n",
    "\n"
   ]
  },
  {
   "cell_type": "markdown",
   "metadata": {},
   "source": [
    "<font color = \"red\">Exercise</font> <br><br>\n",
    "Create the sequence \"echo echo echo \" by using the operator *. <br>\n",
    "Find the position of the second e in \"sequence of nucleotides\".<br>\n",
    "Retrieve the word \"the\" from \"immunotherapy\" using subsetting.<br><br>"
   ]
  },
  {
   "cell_type": "code",
   "execution_count": null,
   "metadata": {},
   "outputs": [],
   "source": []
  },
  {
   "cell_type": "code",
   "execution_count": null,
   "metadata": {},
   "outputs": [],
   "source": []
  },
  {
   "cell_type": "code",
   "execution_count": null,
   "metadata": {},
   "outputs": [],
   "source": []
  },
  {
   "cell_type": "markdown",
   "metadata": {},
   "source": [
    "_______________\n",
    "### Range - an immutable sequence of numbers"
   ]
  },
  {
   "cell_type": "markdown",
   "metadata": {},
   "source": [
    "It is commonly used for looping a specific number of times.  \n",
    "It is not generated until needed - lazy loading - generator type"
   ]
  },
  {
   "cell_type": "markdown",
   "metadata": {},
   "source": [
    "range(stop)<br>\n",
    "range(start, stop[, step])"
   ]
  },
  {
   "cell_type": "code",
   "execution_count": null,
   "metadata": {},
   "outputs": [],
   "source": [
    "dir(range)"
   ]
  },
  {
   "cell_type": "code",
   "execution_count": null,
   "metadata": {},
   "outputs": [],
   "source": [
    "list(range(10))"
   ]
  },
  {
   "cell_type": "code",
   "execution_count": null,
   "metadata": {},
   "outputs": [],
   "source": [
    "range(10)"
   ]
  },
  {
   "cell_type": "code",
   "execution_count": null,
   "metadata": {},
   "outputs": [],
   "source": [
    "list(range(5, 31, 5))"
   ]
  },
  {
   "cell_type": "markdown",
   "metadata": {},
   "source": [
    "__________\n",
    "### List - a collection of elements, allows duplicates, is orderred, and is mutable (changeable)"
   ]
  },
  {
   "cell_type": "markdown",
   "metadata": {},
   "source": [
    "A list may be constructed in several ways:<br>\n",
    "\n",
    "Using a pair of square brackets to denote the empty list: []<br>\n",
    "Using square brackets, separating items with commas: [a], [a, b, c]<br>\n",
    "Using a list comprehension: [x for x in iterable]<br>\n",
    "Using the type constructor: list() or list(iterable)<br>"
   ]
  },
  {
   "cell_type": "code",
   "execution_count": null,
   "metadata": {},
   "outputs": [],
   "source": [
    "dir(list)"
   ]
  },
  {
   "cell_type": "code",
   "execution_count": null,
   "metadata": {},
   "outputs": [],
   "source": [
    "patient_BMIs = [25, 18, 30, 16, 22, 32, 28]\n",
    "patient_BMIs"
   ]
  },
  {
   "cell_type": "markdown",
   "metadata": {},
   "source": [
    "Size/length of a list - builtin len function"
   ]
  },
  {
   "cell_type": "code",
   "execution_count": null,
   "metadata": {},
   "outputs": [],
   "source": []
  },
  {
   "cell_type": "markdown",
   "metadata": {},
   "source": [
    "Save the list in a different variable"
   ]
  },
  {
   "cell_type": "code",
   "execution_count": null,
   "metadata": {},
   "outputs": [],
   "source": [
    "patient_BMIs_followup \n"
   ]
  },
  {
   "cell_type": "markdown",
   "metadata": {},
   "source": [
    "Retrieve elements from a list subsetting/slicing - [:]"
   ]
  },
  {
   "cell_type": "code",
   "execution_count": null,
   "metadata": {},
   "outputs": [],
   "source": []
  },
  {
   "cell_type": "markdown",
   "metadata": {},
   "source": [
    "Negative indexing - retrieving elements from the end of the list [:]"
   ]
  },
  {
   "cell_type": "code",
   "execution_count": null,
   "metadata": {},
   "outputs": [],
   "source": []
  },
  {
   "cell_type": "markdown",
   "metadata": {},
   "source": [
    "Change a value in a list"
   ]
  },
  {
   "cell_type": "code",
   "execution_count": null,
   "metadata": {},
   "outputs": [],
   "source": []
  },
  {
   "cell_type": "code",
   "execution_count": null,
   "metadata": {},
   "outputs": [],
   "source": []
  },
  {
   "cell_type": "markdown",
   "metadata": {},
   "source": [
    "patient_BMIs_followup and patient_BMIs are references to the same object<br>\n",
    "<b>When the referred object changes the values display for both referring variables change.</b>"
   ]
  },
  {
   "cell_type": "markdown",
   "metadata": {},
   "source": [
    "To make a copy of a list:<br> \n",
    "copy_list = initial_list[:] <br><br>\n",
    "Similarly we can do <br>\n",
    "copy_list = list(initial_list)"
   ]
  },
  {
   "cell_type": "code",
   "execution_count": null,
   "metadata": {},
   "outputs": [],
   "source": [
    "patient_BMIs_followup \n"
   ]
  },
  {
   "cell_type": "code",
   "execution_count": null,
   "metadata": {},
   "outputs": [],
   "source": [
    "# Change a value\n",
    "\n"
   ]
  },
  {
   "cell_type": "code",
   "execution_count": null,
   "metadata": {},
   "outputs": [],
   "source": [
    "patient_BMIs"
   ]
  },
  {
   "cell_type": "markdown",
   "metadata": {},
   "source": [
    "<img src=\"http://henry.precheur.org/python/list1.png\" width=200 />\n",
    "<img src=\"http://henry.precheur.org/python/list2.png\" width=200 />"
   ]
  },
  {
   "cell_type": "markdown",
   "metadata": {},
   "source": [
    "To copy a list through subsetting works ... until it doesn't.<br>\n",
    "When the list contains sublists.\n",
    "The copy module has a deepcopy funtion."
   ]
  },
  {
   "cell_type": "code",
   "execution_count": null,
   "metadata": {},
   "outputs": [],
   "source": [
    "#Add elements to a list - append function\n",
    "\n"
   ]
  },
  {
   "cell_type": "code",
   "execution_count": null,
   "metadata": {},
   "outputs": [],
   "source": [
    "#Order the elements of a list - sort function\n"
   ]
  },
  {
   "cell_type": "code",
   "execution_count": null,
   "metadata": {},
   "outputs": [],
   "source": [
    "# We can add different types of elements to a list - append funtion\n"
   ]
  },
  {
   "cell_type": "code",
   "execution_count": null,
   "metadata": {},
   "outputs": [],
   "source": []
  },
  {
   "cell_type": "code",
   "execution_count": null,
   "metadata": {},
   "outputs": [],
   "source": [
    "# We can include the elements of another list into our list - extend function \n",
    "\n"
   ]
  },
  {
   "cell_type": "code",
   "execution_count": null,
   "metadata": {},
   "outputs": [],
   "source": [
    "\"\"\"insert an element at a certain position\n",
    "insert(position, element)\"\"\"\n",
    "\n"
   ]
  },
  {
   "cell_type": "code",
   "execution_count": null,
   "metadata": {},
   "outputs": [],
   "source": [
    "#Change list elements through subsetting and assignment - [:] = \n",
    "\n"
   ]
  },
  {
   "cell_type": "code",
   "execution_count": null,
   "metadata": {},
   "outputs": [],
   "source": []
  },
  {
   "cell_type": "code",
   "execution_count": null,
   "metadata": {
    "scrolled": true
   },
   "outputs": [],
   "source": []
  },
  {
   "cell_type": "code",
   "execution_count": null,
   "metadata": {},
   "outputs": [],
   "source": []
  },
  {
   "cell_type": "code",
   "execution_count": null,
   "metadata": {},
   "outputs": [],
   "source": [
    "#Check if an element is in our list - the in operator\n"
   ]
  },
  {
   "cell_type": "code",
   "execution_count": null,
   "metadata": {},
   "outputs": [],
   "source": [
    "#Retrieve the position of an element in a list - index function\n",
    "\n"
   ]
  },
  {
   "cell_type": "code",
   "execution_count": null,
   "metadata": {},
   "outputs": [],
   "source": [
    "#Count the occurences of an element in a list - count function\n",
    "\n"
   ]
  },
  {
   "cell_type": "markdown",
   "metadata": {},
   "source": [
    "Remove list elements"
   ]
  },
  {
   "cell_type": "markdown",
   "metadata": {},
   "source": [
    "<b>remove()</b> removes the first matching value, not a specific index."
   ]
  },
  {
   "cell_type": "code",
   "execution_count": null,
   "metadata": {},
   "outputs": [],
   "source": [
    "\n"
   ]
  },
  {
   "cell_type": "markdown",
   "metadata": {},
   "source": [
    "<b>del</b> command removes the item at a specific index."
   ]
  },
  {
   "cell_type": "code",
   "execution_count": null,
   "metadata": {},
   "outputs": [],
   "source": [
    "\n"
   ]
  },
  {
   "cell_type": "markdown",
   "metadata": {},
   "source": [
    "<b>pop()</b> removes the item at a specific index and returns it."
   ]
  },
  {
   "cell_type": "code",
   "execution_count": null,
   "metadata": {},
   "outputs": [],
   "source": []
  },
  {
   "cell_type": "code",
   "execution_count": null,
   "metadata": {},
   "outputs": [],
   "source": [
    "patient_BMIs"
   ]
  },
  {
   "cell_type": "markdown",
   "metadata": {},
   "source": [
    "<b>clear()</b> removes all the elements of a list"
   ]
  },
  {
   "cell_type": "code",
   "execution_count": null,
   "metadata": {},
   "outputs": [],
   "source": []
  },
  {
   "cell_type": "code",
   "execution_count": null,
   "metadata": {},
   "outputs": [],
   "source": []
  },
  {
   "cell_type": "markdown",
   "metadata": {},
   "source": [
    "<font color = \"red\">Exercise</font> <br><br>\n",
    "\n",
    "Create a list of sublists of 4 organisms, 4 genes and 4 values (10,20,30,10)\n",
    "\n",
    "Check if human is in the organism list.<br>\n",
    "Find the index of value 10 in the values list.<br>\n",
    "Count how many times 10 occurs in gene.<br><br>\n"
   ]
  },
  {
   "cell_type": "code",
   "execution_count": null,
   "metadata": {},
   "outputs": [],
   "source": []
  },
  {
   "cell_type": "code",
   "execution_count": null,
   "metadata": {},
   "outputs": [],
   "source": []
  },
  {
   "cell_type": "code",
   "execution_count": null,
   "metadata": {},
   "outputs": [],
   "source": []
  },
  {
   "cell_type": "markdown",
   "metadata": {},
   "source": [
    "<b>String join()</b> - makes a string outof the elements of a list using a given string as a separator/delimiter"
   ]
  },
  {
   "cell_type": "code",
   "execution_count": null,
   "metadata": {},
   "outputs": [],
   "source": [
    "\",\".join([\"Make\",\"a\",\"sentence.\"])"
   ]
  },
  {
   "cell_type": "markdown",
   "metadata": {},
   "source": [
    "<b>String split()</b> - always creates a list - splits a string by a given separator/delimiter "
   ]
  },
  {
   "cell_type": "code",
   "execution_count": null,
   "metadata": {},
   "outputs": [],
   "source": [
    "\"Get the, words\".split(\",\")"
   ]
  },
  {
   "cell_type": "markdown",
   "metadata": {},
   "source": [
    "____________\n",
    "\n",
    "### Tuple - a collection of elements, allows duplicates, is orderred, and is <u>unchangeable</u>\n",
    "Faster than lists."
   ]
  },
  {
   "cell_type": "markdown",
   "metadata": {},
   "source": [
    "Tuples may be constructed in a number of ways:<br>\n",
    "\n",
    "Using a pair of parentheses to denote the empty tuple: ()<br>\n",
    "Using a trailing comma for a singleton tuple: a, or (a,)<br>\n",
    "Separating items with commas: a, b, c or (a, b, c)<br>\n",
    "Using the tuple() built-in: tuple() or tuple(iterable)<br>"
   ]
  },
  {
   "cell_type": "code",
   "execution_count": null,
   "metadata": {},
   "outputs": [],
   "source": [
    "dir(tuple)"
   ]
  },
  {
   "cell_type": "code",
   "execution_count": null,
   "metadata": {},
   "outputs": [],
   "source": [
    "(2,)"
   ]
  },
  {
   "cell_type": "code",
   "execution_count": null,
   "metadata": {},
   "outputs": [],
   "source": [
    "gene = (\"Gene1\", \"This is an important gene\", 10, 200.5)"
   ]
  },
  {
   "cell_type": "code",
   "execution_count": null,
   "metadata": {},
   "outputs": [],
   "source": [
    "gene[0]"
   ]
  },
  {
   "cell_type": "code",
   "execution_count": null,
   "metadata": {},
   "outputs": [],
   "source": [
    "gene[-1]"
   ]
  },
  {
   "cell_type": "code",
   "execution_count": null,
   "metadata": {},
   "outputs": [],
   "source": [
    "# Unpacking a tuple assign each element of a tuple to a variable.\n",
    "\n",
    "gene_symbol, gene_description, exon_number, expression = gene\n",
    "\n",
    "print(gene_symbol)\n",
    "print(gene_description)\n",
    "print(exon_number)\n",
    "print(expression)"
   ]
  },
  {
   "cell_type": "code",
   "execution_count": null,
   "metadata": {},
   "outputs": [],
   "source": [
    "len(gene)"
   ]
  },
  {
   "cell_type": "markdown",
   "metadata": {},
   "source": [
    "Tuple specifics, easy switch of values."
   ]
  },
  {
   "cell_type": "code",
   "execution_count": null,
   "metadata": {},
   "outputs": [],
   "source": [
    "a, b = 3, 4\n",
    "print(a)\n",
    "print(b)"
   ]
  },
  {
   "cell_type": "code",
   "execution_count": null,
   "metadata": {},
   "outputs": [],
   "source": [
    "a, b = b, a\n",
    "print(a)\n",
    "print(b)"
   ]
  },
  {
   "cell_type": "markdown",
   "metadata": {},
   "source": [
    "<font color = \"red\">Exercise</font> <br><br>\n",
    "\n",
    "Check if value 10 is in gene.<br>\n",
    "Find the index of value 10 in gene.<br>\n",
    "Count how many times 10 occurs in gene.<br><br>\n"
   ]
  },
  {
   "cell_type": "code",
   "execution_count": null,
   "metadata": {},
   "outputs": [],
   "source": []
  },
  {
   "cell_type": "markdown",
   "metadata": {},
   "source": [
    "<b>Concatenating immutable sequences always results in a new object</b>\n",
    "\n",
    "This means that building up a sequence by repeated concatenation will have a quadratic runtime cost in the total sequence length. <br>\n",
    "To get a linear runtime cost, you must switch to one of the alternatives below:\n",
    "* if concatenating str objects, you can build a list and use str.join() at the end or else write to an io.StringIO instance and retrieve its value when complete\n",
    "* if concatenating tuple objects, extend a list instead\n",
    "\n",
    "Some sequence types (such as range) only support item sequences that follow specific patterns, and hence don’t support sequence concatenation or repetition.\n",
    "The index() funtion raises ValueError when x is not found in s\n",
    "\n",
    "https://docs.python.org/3/library/stdtypes.html"
   ]
  },
  {
   "cell_type": "markdown",
   "metadata": {},
   "source": [
    "__________________\n",
    "\n",
    "### Dictionaries - a collection of key:value pairs, is unordered, has no duplicates, is changeable, and is indexed.\n",
    "### The mapping type"
   ]
  },
  {
   "cell_type": "markdown",
   "metadata": {},
   "source": [
    "Dictionaries can be created by placing a comma-separated list of key: value pairs within braces, or by the dict constructor <br>\n",
    "\n",
    "dict(**kwarg)\n",
    "dict(mapping, **kwarg)<br>\n",
    "dict(iterable, **kwarg)<br>\n",
    "\n",
    "Dictionaries are unorderred"
   ]
  },
  {
   "cell_type": "code",
   "execution_count": null,
   "metadata": {},
   "outputs": [],
   "source": [
    "dir(dict)"
   ]
  },
  {
   "cell_type": "code",
   "execution_count": null,
   "metadata": {},
   "outputs": [],
   "source": [
    "d1 = {\"Id1\": \"Description of Gene1\", \"Id2\": \"Description of Gene2\"}\n",
    "d1"
   ]
  },
  {
   "cell_type": "code",
   "execution_count": null,
   "metadata": {},
   "outputs": [],
   "source": [
    "d2 = {\"Id2\": \"Description of Gene2\", \"Id1\": \"Description of Gene1\"}\n",
    "d2"
   ]
  },
  {
   "cell_type": "code",
   "execution_count": null,
   "metadata": {},
   "outputs": [],
   "source": [
    "d1 == d2"
   ]
  },
  {
   "cell_type": "code",
   "execution_count": null,
   "metadata": {},
   "outputs": [],
   "source": [
    "# Check if key in dictionary\n",
    "\"Id1\" in d1"
   ]
  },
  {
   "cell_type": "code",
   "execution_count": null,
   "metadata": {},
   "outputs": [],
   "source": [
    "'''\n",
    "Length of dictionary\n",
    "'''\n",
    "print(len(d1))"
   ]
  },
  {
   "cell_type": "markdown",
   "metadata": {},
   "source": [
    "Retrieving a dictionary value."
   ]
  },
  {
   "cell_type": "code",
   "execution_count": null,
   "metadata": {},
   "outputs": [],
   "source": [
    "d1[\"Id1\"]"
   ]
  },
  {
   "cell_type": "code",
   "execution_count": null,
   "metadata": {},
   "outputs": [],
   "source": [
    "d1.get(\"Id1\")"
   ]
  },
  {
   "cell_type": "markdown",
   "metadata": {},
   "source": [
    "Add element"
   ]
  },
  {
   "cell_type": "code",
   "execution_count": null,
   "metadata": {},
   "outputs": [],
   "source": [
    "d1[\"Id4\"] = \"Description of Gene3\""
   ]
  },
  {
   "cell_type": "code",
   "execution_count": null,
   "metadata": {},
   "outputs": [],
   "source": [
    "d1[\"Id0\"] = \"Description of Gene4\""
   ]
  },
  {
   "cell_type": "code",
   "execution_count": null,
   "metadata": {},
   "outputs": [],
   "source": [
    "# update if key exists, add a new element if it does not\n",
    "d1.update({\"Id5\":\"description\"})"
   ]
  },
  {
   "cell_type": "code",
   "execution_count": null,
   "metadata": {},
   "outputs": [],
   "source": [
    "d1"
   ]
  },
  {
   "cell_type": "code",
   "execution_count": null,
   "metadata": {},
   "outputs": [],
   "source": [
    "d1.update({\"Id5\":\"Description of Gene5\"})"
   ]
  },
  {
   "cell_type": "code",
   "execution_count": null,
   "metadata": {},
   "outputs": [],
   "source": [
    "d1.values()"
   ]
  },
  {
   "cell_type": "code",
   "execution_count": null,
   "metadata": {},
   "outputs": [],
   "source": [
    "d1.keys()"
   ]
  },
  {
   "cell_type": "code",
   "execution_count": null,
   "metadata": {},
   "outputs": [],
   "source": [
    "d1.items()"
   ]
  },
  {
   "cell_type": "markdown",
   "metadata": {},
   "source": [
    "Removing elements is done using: del(), pop(), popitem() or clear().<br>\n",
    "It is done using the key of an element.<br>\n",
    "popitem() remove the last element.<br>"
   ]
  },
  {
   "cell_type": "code",
   "execution_count": null,
   "metadata": {},
   "outputs": [],
   "source": [
    "d1.popitem()"
   ]
  },
  {
   "cell_type": "markdown",
   "metadata": {},
   "source": [
    "<font color = \"red\">Exercise</font> <br><br>\n",
    "Remove the element with Id2 from the dictionary<br><br>"
   ]
  },
  {
   "cell_type": "code",
   "execution_count": null,
   "metadata": {},
   "outputs": [],
   "source": []
  },
  {
   "cell_type": "markdown",
   "metadata": {},
   "source": [
    "_______________\n",
    "### Sets - a collection of elements, is unordered, has no duplicates, can be changeable or unchangeable."
   ]
  },
  {
   "cell_type": "markdown",
   "metadata": {},
   "source": [
    "A set object is an unordered collection of distinct objects.<br>\n",
    "A set is mutable, unless it is a frozenset.<br>\n",
    "To create a set use braces to separate set elements or the set([iterable]) constructor.<br>\n",
    "Elements cannot be changed/updated, but can be added and removed.<br>\n",
    "The update() function add multiple elements.<br>"
   ]
  },
  {
   "cell_type": "code",
   "execution_count": null,
   "metadata": {},
   "outputs": [],
   "source": [
    "dir(set)"
   ]
  },
  {
   "cell_type": "code",
   "execution_count": null,
   "metadata": {},
   "outputs": [],
   "source": [
    "model_organisms = {\"human\", \"mouse\", \"rat\", \"fruit fly\", \"worm\", \"E coli\"}\n",
    "model_organisms"
   ]
  },
  {
   "cell_type": "code",
   "execution_count": null,
   "metadata": {},
   "outputs": [],
   "source": [
    "\"human\" in model_organisms"
   ]
  },
  {
   "cell_type": "code",
   "execution_count": null,
   "metadata": {},
   "outputs": [],
   "source": [
    "model_organisms.add(\"yeast\")\n",
    "model_organisms"
   ]
  },
  {
   "cell_type": "code",
   "execution_count": null,
   "metadata": {},
   "outputs": [],
   "source": [
    "model_organisms.update([\"zebrafish\",\"frog\"])\n",
    "model_organisms"
   ]
  },
  {
   "cell_type": "code",
   "execution_count": null,
   "metadata": {},
   "outputs": [],
   "source": [
    "# raises exception if element does not exist\n",
    "\n",
    "model_organisms.remove(\"rat\")\n",
    "model_organisms"
   ]
  },
  {
   "cell_type": "code",
   "execution_count": null,
   "metadata": {},
   "outputs": [],
   "source": [
    "# does not raise exception if element does not exist\n",
    "\n",
    "model_organisms.discard(\"rat\")\n",
    "model_organisms"
   ]
  },
  {
   "cell_type": "code",
   "execution_count": null,
   "metadata": {},
   "outputs": [],
   "source": [
    "model_organisms.discard(\"frog\")\n",
    "model_organisms"
   ]
  },
  {
   "cell_type": "code",
   "execution_count": null,
   "metadata": {},
   "outputs": [],
   "source": [
    "set1 = {\"human\", \"mouse\", \"rat\", \"fruit fly\", \"worm\", \"E coli\"}\n",
    "set2 = {\"rat, zebrafish\", \"frog\", \"yeast\", \"worm\"}"
   ]
  },
  {
   "cell_type": "code",
   "execution_count": null,
   "metadata": {},
   "outputs": [],
   "source": [
    "set3 = set1.union(set2)"
   ]
  },
  {
   "cell_type": "markdown",
   "metadata": {},
   "source": [
    "https://docs.python.org/3/library/stdtypes.html#set"
   ]
  },
  {
   "cell_type": "markdown",
   "metadata": {},
   "source": [
    "<font color = \"red\">Exercise</font> <br>\n",
    "\n",
    "Given the previous 2 sets (set1 and set2) compute the intersection and difference (set1 - set2).<br>\n",
    "Use the dir funtion to find out the name of the funtion to use\n",
    "Update set1 with the elements of set2.<br>\n",
    "Check if set1 is now equal with set3. <br>\n",
    "Explain the result.<br>"
   ]
  },
  {
   "cell_type": "code",
   "execution_count": null,
   "metadata": {},
   "outputs": [],
   "source": []
  },
  {
   "cell_type": "code",
   "execution_count": null,
   "metadata": {},
   "outputs": [],
   "source": []
  },
  {
   "cell_type": "code",
   "execution_count": null,
   "metadata": {},
   "outputs": [],
   "source": []
  },
  {
   "cell_type": "code",
   "execution_count": null,
   "metadata": {},
   "outputs": [],
   "source": []
  }
 ],
 "metadata": {
  "kernelspec": {
   "display_name": "Python 3",
   "language": "python",
   "name": "python3"
  },
  "language_info": {
   "codemirror_mode": {
    "name": "ipython",
    "version": 3
   },
   "file_extension": ".py",
   "mimetype": "text/x-python",
   "name": "python",
   "nbconvert_exporter": "python",
   "pygments_lexer": "ipython3",
   "version": "3.8.3"
  }
 },
 "nbformat": 4,
 "nbformat_minor": 4
}
