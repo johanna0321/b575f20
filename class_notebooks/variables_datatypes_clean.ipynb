{
 "cells": [
  {
   "cell_type": "markdown",
   "metadata": {},
   "source": [
    "## Variables and Data Structures\n",
    "### BIOINF 575 - Fall 2020"
   ]
  },
  {
   "cell_type": "markdown",
   "metadata": {},
   "source": [
    "### Interactive python apps commands\n",
    "\n",
    "&emsp; python – open a plain python console in current terminal <br>\n",
    "    &emsp; http://jupyter.org/ - The evolved form of iPython <br>\n",
    "    &emsp; ipython or jupyter-console – open an iPython console in the current terminal <br>\n",
    "    &emsp; jupyter-qtconsole – open an iPython session in a qt console (console uses qt GUI library, more functional window)\n",
    "    <br>\n",
    "    &emsp; jupyter notebook – start a notebook session and open in in a web browser <br>\n",
    "    &emsp; Jupyter-lab – start a jupyter lab session, the future of the notebook <br>\n",
    "    &emsp; spyder – launch the Spyder IDE <br>\n",
    "    &emsp;&emsp;    https://www.spyder-ide.org/ <br>\n",
    "    &emsp; anaconda-navigator – launch the Anaconda Navigator <br>"
   ]
  },
  {
   "cell_type": "markdown",
   "metadata": {},
   "source": [
    "https://www.dataquest.io/blog/jupyter-notebook-tutorial/"
   ]
  },
  {
   "cell_type": "markdown",
   "metadata": {},
   "source": [
    "A <b>markup language</b> is a system for annotating a document where the test does not read very well but the result makes the content easier to understand<br> \n",
    "Example: using color, different font styles, different font size, indentation, itemizing, numbering\n",
    "The idea started from the \"marking up\" of paper manuscripts.\n",
    "\n",
    "<b>Markdown</b> is a tool to convert text to HTML.<br>\n",
    "Markdown is lightweight markup language with plain text formatting syntax.<br> \n",
    "Its design allows it to be converted to many output formats, but the original tool by the same name only supports HTML.<br>\n",
    "Markdown is often used to format readme files, for writing messages in online discussion forums, and to create rich text using a plain text editor.<br><br>\n",
    "https://github.com/adam-p/markdown-here/wiki/Markdown-Cheatsheet<br>"
   ]
  },
  {
   "cell_type": "markdown",
   "metadata": {},
   "source": [
    "#### The Zen of Python, by Tim Peters"
   ]
  },
  {
   "cell_type": "code",
   "execution_count": null,
   "metadata": {},
   "outputs": [],
   "source": [
    "import this"
   ]
  },
  {
   "cell_type": "markdown",
   "metadata": {},
   "source": [
    "### Variables"
   ]
  },
  {
   "cell_type": "markdown",
   "metadata": {},
   "source": [
    "Naming conventions\n",
    "* underscore separated - variable_name - preference\n",
    "* Camel case - VariableName\n",
    "\n",
    "There are many others:\n",
    "* https://en.wikipedia.org/wiki/Naming_convention_(programming)\n",
    "\n",
    "Use meaningful names, your future self will thank you!"
   ]
  },
  {
   "cell_type": "markdown",
   "metadata": {},
   "source": [
    "<b>Assign</b> a value to a variable. <br>\n",
    "The assignment operator is: \"=\" <br><br>"
   ]
  },
  {
   "cell_type": "code",
   "execution_count": null,
   "metadata": {},
   "outputs": [],
   "source": [
    "message = \"Let's get started!\""
   ]
  },
  {
   "cell_type": "markdown",
   "metadata": {},
   "source": [
    "Check the value of a variable"
   ]
  },
  {
   "cell_type": "code",
   "execution_count": null,
   "metadata": {},
   "outputs": [],
   "source": [
    "message"
   ]
  },
  {
   "cell_type": "code",
   "execution_count": null,
   "metadata": {},
   "outputs": [],
   "source": [
    "print(message)"
   ]
  },
  {
   "cell_type": "markdown",
   "metadata": {},
   "source": [
    "<font color = \"red\">EXERCISE</font> <br>\n",
    "<br>\n",
    "Assign the value 10 to a variable.<br>\n",
    "Assign the value True to a variable.<br><br>\n",
    "Assign the value 100 to the variable attendance_percentage.<br>\n",
    "Assign the value of the variable attendance_percentage to the variable quiz_percentage.<br><br>\n",
    "<b>Multiple assignment:</b> assign the value 20 to two variables at the same time.<br> \n",
    "Then check the value of the two variables.<br><br>"
   ]
  },
  {
   "cell_type": "code",
   "execution_count": null,
   "metadata": {
    "scrolled": true
   },
   "outputs": [],
   "source": [
    "cat_weight = 10\n",
    "print(cat_weight)\n",
    "is_Wednesday = True\n",
    "print(is_Wednesday)\n",
    "attendance_percentage = 100\n",
    "print(attendance_percentage)\n",
    "quiz_percentage = attendance_percentage\n",
    "print(quiz_percentage)\n",
    "attendance_percentage = 90\n",
    "print(attendance_percentage)"
   ]
  },
  {
   "cell_type": "markdown",
   "metadata": {},
   "source": [
    "Remove the value from a variable using <b>None</b>."
   ]
  },
  {
   "cell_type": "code",
   "execution_count": null,
   "metadata": {},
   "outputs": [],
   "source": [
    "message"
   ]
  },
  {
   "cell_type": "code",
   "execution_count": null,
   "metadata": {},
   "outputs": [],
   "source": [
    "message = None"
   ]
  },
  {
   "cell_type": "code",
   "execution_count": null,
   "metadata": {},
   "outputs": [],
   "source": [
    "message"
   ]
  },
  {
   "cell_type": "markdown",
   "metadata": {},
   "source": [
    "Remove a variable from the environment using the function <b>del()</b>."
   ]
  },
  {
   "cell_type": "code",
   "execution_count": null,
   "metadata": {},
   "outputs": [],
   "source": [
    "del(message)"
   ]
  },
  {
   "cell_type": "markdown",
   "metadata": {},
   "source": [
    "Now let's try to see what value variable <i>message</i> has<br>\n",
    "What do we expect?"
   ]
  },
  {
   "cell_type": "code",
   "execution_count": null,
   "metadata": {},
   "outputs": [],
   "source": [
    "message"
   ]
  },
  {
   "cell_type": "markdown",
   "metadata": {},
   "source": [
    "python complained! \n",
    "<img src='http://greenlining.org/wp-content/uploads/2013/10/COMPLAIN.jpg' width=\"200\"/>\n",
    "http://greenlining.org/wp-content/uploads/2013/10/COMPLAIN.jpg"
   ]
  },
  {
   "cell_type": "markdown",
   "metadata": {},
   "source": [
    "List the type of a variable with the function <b>type()</b>."
   ]
  },
  {
   "cell_type": "code",
   "execution_count": null,
   "metadata": {},
   "outputs": [],
   "source": [
    "message = \"Let's test the type.\"\n",
    "message"
   ]
  },
  {
   "cell_type": "code",
   "execution_count": null,
   "metadata": {
    "scrolled": true
   },
   "outputs": [],
   "source": [
    "type(message)"
   ]
  },
  {
   "cell_type": "code",
   "execution_count": null,
   "metadata": {},
   "outputs": [],
   "source": [
    "message = 10\n",
    "message"
   ]
  },
  {
   "cell_type": "code",
   "execution_count": null,
   "metadata": {},
   "outputs": [],
   "source": [
    "type(message)"
   ]
  },
  {
   "cell_type": "markdown",
   "metadata": {},
   "source": [
    "Typing is dynamic but strict in python (objects have type).<br><br>\n",
    "The principal built-in types are numerics, sequences, mappings, classes, instances and exceptions.<br>\n",
    "Numeric Types — int (subtype: bool), float, complex.<br>\n",
    "Sequence Types — string, list, tuple, range.<br><br>\n",
    "There are two major categories: mutable and immutable types.<br>\n",
    "<b>Immutable</b> variables <b>cannot be changed</b>, while <b>Mutable</b> variables <b>can be changed</b>.<br>\n",
    "Integer, Floats, Strings, Tuples, Boolean are immutable.<br>\n",
    "List are mutable types.<br>\n",
    "\n",
    "https://docs.python.org/3/library/stdtypes.html\n"
   ]
  },
  {
   "cell_type": "markdown",
   "metadata": {},
   "source": [
    "List functions and attributes in strings using the <b>dir(str)</b> function."
   ]
  },
  {
   "cell_type": "code",
   "execution_count": null,
   "metadata": {},
   "outputs": [],
   "source": [
    "dir(str)"
   ]
  },
  {
   "cell_type": "code",
   "execution_count": null,
   "metadata": {},
   "outputs": [],
   "source": [
    "\"test\".capitalize()"
   ]
  },
  {
   "cell_type": "markdown",
   "metadata": {},
   "source": [
    "Funtions preceeded by \\_\\_ (e.g. \\_\\_lt\\_\\_ - less than) are special internal funtions used by python funtions and operators"
   ]
  },
  {
   "cell_type": "markdown",
   "metadata": {},
   "source": [
    "<font color = \"red\">EXERCISE</font> <br><br>\n",
    "Test more of the string functions: upper(), strip(), ...<br><br>"
   ]
  },
  {
   "cell_type": "code",
   "execution_count": null,
   "metadata": {},
   "outputs": [],
   "source": [
    "\"test\".upper()"
   ]
  },
  {
   "cell_type": "code",
   "execution_count": null,
   "metadata": {},
   "outputs": [],
   "source": [
    "\"  test  text  \".strip()"
   ]
  },
  {
   "cell_type": "code",
   "execution_count": null,
   "metadata": {},
   "outputs": [],
   "source": [
    "\"test\".index(\"es\")"
   ]
  },
  {
   "cell_type": "markdown",
   "metadata": {},
   "source": [
    "Get more information regarding strings using the <b>help(str)</b> function."
   ]
  },
  {
   "cell_type": "code",
   "execution_count": null,
   "metadata": {},
   "outputs": [],
   "source": [
    "help(str)"
   ]
  },
  {
   "cell_type": "markdown",
   "metadata": {},
   "source": [
    "### Numeric\n",
    "Basic math operations: <b>int</b> (natural numbers), <b>float</b> (decimal numbers), <b>complex</b><br>\n",
    "Integer, arbitrarily long, convert from floats or strings with int()<br>\n",
    "Floats, convert from str or int types with float()<br>\n",
    "Convert to string with str()<br>"
   ]
  },
  {
   "cell_type": "markdown",
   "metadata": {},
   "source": [
    "<b>No automatic coercion of  types, explicit conversion only</b><br>\n",
    "<b>Exception: print() - converts to strings where possible</b>"
   ]
  },
  {
   "cell_type": "code",
   "execution_count": null,
   "metadata": {},
   "outputs": [],
   "source": [
    "dir(int)"
   ]
  },
  {
   "cell_type": "markdown",
   "metadata": {},
   "source": [
    "Computing the area of a rectangle."
   ]
  },
  {
   "cell_type": "code",
   "execution_count": null,
   "metadata": {},
   "outputs": [],
   "source": [
    "length = 2\n",
    "width = 4\n",
    "area = length * width\n",
    "area"
   ]
  },
  {
   "cell_type": "code",
   "execution_count": null,
   "metadata": {},
   "outputs": [],
   "source": [
    "type(4)"
   ]
  },
  {
   "cell_type": "markdown",
   "metadata": {},
   "source": [
    "Float division"
   ]
  },
  {
   "cell_type": "code",
   "execution_count": null,
   "metadata": {},
   "outputs": [],
   "source": [
    "type(4/2)"
   ]
  },
  {
   "cell_type": "code",
   "execution_count": null,
   "metadata": {},
   "outputs": [],
   "source": [
    "type(4//2)"
   ]
  },
  {
   "cell_type": "code",
   "execution_count": null,
   "metadata": {},
   "outputs": [],
   "source": [
    "4//2"
   ]
  },
  {
   "cell_type": "code",
   "execution_count": null,
   "metadata": {},
   "outputs": [],
   "source": [
    "4/2"
   ]
  },
  {
   "cell_type": "markdown",
   "metadata": {},
   "source": [
    "Explicit conversion"
   ]
  },
  {
   "cell_type": "code",
   "execution_count": null,
   "metadata": {},
   "outputs": [],
   "source": [
    "float(4)"
   ]
  },
  {
   "cell_type": "code",
   "execution_count": null,
   "metadata": {},
   "outputs": [],
   "source": [
    "float(\"4.5\")"
   ]
  },
  {
   "cell_type": "code",
   "execution_count": null,
   "metadata": {},
   "outputs": [],
   "source": [
    "float(\"DNA sequence\")"
   ]
  },
  {
   "cell_type": "code",
   "execution_count": null,
   "metadata": {},
   "outputs": [],
   "source": [
    "int(\"4\")"
   ]
  },
  {
   "cell_type": "code",
   "execution_count": null,
   "metadata": {},
   "outputs": [],
   "source": [
    "repr(4)"
   ]
  },
  {
   "cell_type": "code",
   "execution_count": null,
   "metadata": {},
   "outputs": [],
   "source": [
    "str(4)"
   ]
  },
  {
   "cell_type": "code",
   "execution_count": null,
   "metadata": {},
   "outputs": [],
   "source": [
    "# remainder/modulo\n",
    "5%2"
   ]
  },
  {
   "cell_type": "code",
   "execution_count": null,
   "metadata": {},
   "outputs": [],
   "source": [
    "# exponent\n",
    "5**2"
   ]
  },
  {
   "cell_type": "code",
   "execution_count": null,
   "metadata": {},
   "outputs": [],
   "source": [
    "message = \"test\"\n",
    "number = 10\n",
    "message * number "
   ]
  },
  {
   "cell_type": "markdown",
   "metadata": {},
   "source": [
    "### Boolean\n",
    "Boolean is a subtype of integer<br>\n",
    "<b>True</b>, <b>False</b> values<br>\n",
    "1 == True, 0 == False<br>\n",
    "empty structure == False<br>"
   ]
  },
  {
   "cell_type": "code",
   "execution_count": null,
   "metadata": {},
   "outputs": [],
   "source": [
    "type(True)"
   ]
  },
  {
   "cell_type": "code",
   "execution_count": null,
   "metadata": {},
   "outputs": [],
   "source": [
    "dir(bool)"
   ]
  },
  {
   "cell_type": "code",
   "execution_count": null,
   "metadata": {},
   "outputs": [],
   "source": [
    "cond_result = True\n",
    "cond_result"
   ]
  },
  {
   "cell_type": "code",
   "execution_count": null,
   "metadata": {},
   "outputs": [],
   "source": [
    "cond_result1 = False\n",
    "cond_result1"
   ]
  },
  {
   "cell_type": "markdown",
   "metadata": {},
   "source": [
    "Logical operators <br><br>\n",
    "<b>not</b> <br>\n",
    "<b>and</b> <br>\n",
    "<b>or</b> <br>"
   ]
  },
  {
   "cell_type": "code",
   "execution_count": null,
   "metadata": {},
   "outputs": [],
   "source": [
    "not cond_result"
   ]
  },
  {
   "cell_type": "code",
   "execution_count": null,
   "metadata": {},
   "outputs": [],
   "source": [
    "cond_result and cond_result1"
   ]
  },
  {
   "cell_type": "code",
   "execution_count": null,
   "metadata": {},
   "outputs": [],
   "source": [
    "cond_result or cond_result1"
   ]
  },
  {
   "cell_type": "markdown",
   "metadata": {},
   "source": [
    "Comparison operators <br><br>\n",
    "<b><</b> strictly less than<br>\n",
    "<b><=</b> less than or equal<br>\n",
    "<b>\\></b> strictly greater than<br>\n",
    "<b>>=</b> greater than or equal<br>\n",
    "<b>==</b> equal<br>\n",
    "<b>!=</b> not equal<br>\n",
    "<b>is</b> object identity<br>\n",
    "<b>is not</b> negated object identity<br>\n"
   ]
  },
  {
   "cell_type": "markdown",
   "metadata": {},
   "source": [
    "not cond_result"
   ]
  },
  {
   "cell_type": "code",
   "execution_count": null,
   "metadata": {},
   "outputs": [],
   "source": [
    "cond_result = 2>=3\n",
    "cond_result"
   ]
  },
  {
   "cell_type": "code",
   "execution_count": null,
   "metadata": {},
   "outputs": [],
   "source": [
    "int(True)"
   ]
  },
  {
   "cell_type": "markdown",
   "metadata": {},
   "source": [
    "<font color = \"red\">EXERCISE</font> <br><br>\n",
    "Assign a numeric value to a variable.<br>\n",
    "Write a composite condition to check if the variable is in the range 10 to 100.<br>\n",
    "Write a composite condition to check if the variable is lower than -10 or higher than 10.<br>\n",
    "Write a composite condition to check if the variable is lower than -10 or higher than 10 and if it can be divided by 5 or 7. <br>"
   ]
  },
  {
   "cell_type": "code",
   "execution_count": null,
   "metadata": {},
   "outputs": [],
   "source": [
    "class_size = 15\n",
    "print(class_size > 10 and class_size < 100)\n",
    "print(class_size < -10 or class_size > 10)\n",
    "print(abs(class_size) > 10)\n",
    "print((class_size < -10 or class_size > 10) and (class_size%5 == 0 or class_size%7 == 0))"
   ]
  },
  {
   "cell_type": "markdown",
   "metadata": {},
   "source": [
    "### Sequence types: <b>String</b>, <b>List</b>, and <b>Tuple</b> - are iterable"
   ]
  },
  {
   "cell_type": "markdown",
   "metadata": {},
   "source": [
    "### String\n",
    "Sequence of characters - immutable"
   ]
  },
  {
   "cell_type": "markdown",
   "metadata": {},
   "source": [
    "Concatenation"
   ]
  },
  {
   "cell_type": "code",
   "execution_count": null,
   "metadata": {},
   "outputs": [],
   "source": [
    "\"Complex \" + 'text'"
   ]
  },
  {
   "cell_type": "markdown",
   "metadata": {},
   "source": [
    "Simple, double or triple quotes:"
   ]
  },
  {
   "cell_type": "code",
   "execution_count": null,
   "metadata": {},
   "outputs": [],
   "source": [
    "\"Don't worry about apostrophes\""
   ]
  },
  {
   "cell_type": "code",
   "execution_count": null,
   "metadata": {},
   "outputs": [],
   "source": [
    "'She said: \"Good day!\"'"
   ]
  },
  {
   "cell_type": "code",
   "execution_count": null,
   "metadata": {},
   "outputs": [],
   "source": [
    "test_message = \"\"\"Trying the triple quotes\"\"\"\n",
    "test_message"
   ]
  },
  {
   "cell_type": "code",
   "execution_count": null,
   "metadata": {},
   "outputs": [],
   "source": [
    "'''\n",
    "I am testing the \n",
    "triple quotes - a comment\n",
    "'''\n",
    "# this is a COMMENT\n",
    "test_message = '''Trying the simple triple quotes'''\n",
    "test_message"
   ]
  },
  {
   "cell_type": "code",
   "execution_count": null,
   "metadata": {},
   "outputs": [],
   "source": []
  },
  {
   "cell_type": "markdown",
   "metadata": {},
   "source": [
    "<b>Common Sequence operations</b>\n",
    "<br>\n",
    "\n",
    "Operation Description:<br><br>\n",
    "<b>x in s</b>\n",
    "True if an item of s is equal to x, else False\n",
    "\n",
    "<b>x not in s</b>\n",
    "False if an item of s is equal to x, else True\n",
    "\n",
    "<b>s + t</b>\n",
    "the concatenation of s and t\n",
    "\n",
    "<b>s * n or n * s</b>\n",
    "equivalent to adding s to itself n times\n",
    "\n",
    "<b>s[i]</b>\n",
    "ith item of s, origin 0\n",
    "\n",
    "<b>s[i:j]</b>\n",
    "slice of s from i to j\n",
    "\n",
    "<b>s[i:j:k]</b>\n",
    "slice of s from i to j with step k\n",
    "\n",
    "<b>len(s)</b>\n",
    "length of s\n",
    "\n",
    "<b>min(s)</b>\n",
    "smallest item of s\n",
    "\n",
    "<b>max(s)</b>\n",
    "largest item of s\n",
    "\n",
    "<b>s.index(x[, i[, j]])</b>\n",
    "index of the first occurrence of x in s (at or after index i and before index j)\n",
    "\n",
    "<b>s.count(x)</b>\n",
    "total number of occurrences of x in s"
   ]
  },
  {
   "cell_type": "code",
   "execution_count": null,
   "metadata": {},
   "outputs": [],
   "source": [
    "\"ll\" in \"collection\""
   ]
  },
  {
   "cell_type": "code",
   "execution_count": null,
   "metadata": {},
   "outputs": [],
   "source": [
    "\"test this, string.\" in \"Collection\""
   ]
  },
  {
   "cell_type": "code",
   "execution_count": null,
   "metadata": {},
   "outputs": [],
   "source": [
    "\"rep\"*4"
   ]
  },
  {
   "cell_type": "code",
   "execution_count": null,
   "metadata": {},
   "outputs": [],
   "source": [
    "\"collection\"[0]"
   ]
  },
  {
   "cell_type": "code",
   "execution_count": null,
   "metadata": {},
   "outputs": [],
   "source": [
    "\"collection\"[1:3]"
   ]
  },
  {
   "cell_type": "code",
   "execution_count": null,
   "metadata": {},
   "outputs": [],
   "source": [
    "\"collection\"[1:3]"
   ]
  },
  {
   "cell_type": "code",
   "execution_count": null,
   "metadata": {},
   "outputs": [],
   "source": [
    "\"testing the subsetting\"[3:16:3]"
   ]
  },
  {
   "cell_type": "code",
   "execution_count": null,
   "metadata": {},
   "outputs": [],
   "source": [
    "\"testing the subsetting\"[3:1000]"
   ]
  },
  {
   "cell_type": "code",
   "execution_count": null,
   "metadata": {},
   "outputs": [],
   "source": [
    "test_string = \"testing the subsetting\"\n",
    "test_string[:len(test_string)]"
   ]
  },
  {
   "cell_type": "code",
   "execution_count": null,
   "metadata": {},
   "outputs": [],
   "source": [
    "len(test_string)"
   ]
  },
  {
   "cell_type": "markdown",
   "metadata": {},
   "source": [
    "#### Subsetting s[i:j:k]\n",
    "\n",
    "If i or j is negative, the index is relative to the end of sequence s: len(s) + i or len(s) + j is substituted. But note that -0 is still 0.\n",
    "\n",
    "The slice of s from i to j is defined as the sequence of items with index k such that i <= k < j. <br>\n",
    "If i or j is greater than len(s), use len(s). <br>\n",
    "If i is omitted or None, use 0. <br>\n",
    "If j is omitted or None, use len(s). <br>\n",
    "If i is greater than or equal to j, the slice is empty.<br>\n",
    "\n",
    "The slice of s from i to j with step k is defined as the sequence of items with index x = i + n\\*k such that 0 <= n < (j-i)/k. <br>\n",
    "In other words, the indices are i, i+k, i+2\\*k, i+3\\*k and so on, stopping when j is reached (but never including j). <br>\n",
    "When k is positive, i and j are reduced to len(s) if they are greater. <br>\n",
    "When k is negative, i and j are reduced to len(s) - 1 if they are greater. <br>\n",
    "If i or j are omitted or None, they become “end” values (which end depends on the sign of k). <br>\n",
    "Note, k cannot be zero. <br>\n",
    "If k is None, it is treated like 1.<br>\n",
    "\n",
    "https://docs.python.org/3/library/stdtypes.html\n"
   ]
  },
  {
   "cell_type": "code",
   "execution_count": null,
   "metadata": {},
   "outputs": [],
   "source": [
    "len(\"collection\")"
   ]
  },
  {
   "cell_type": "code",
   "execution_count": null,
   "metadata": {},
   "outputs": [],
   "source": [
    "\"collection\".index(\"ll\")"
   ]
  },
  {
   "cell_type": "code",
   "execution_count": null,
   "metadata": {},
   "outputs": [],
   "source": [
    "min(\"collection\")"
   ]
  },
  {
   "cell_type": "code",
   "execution_count": null,
   "metadata": {},
   "outputs": [],
   "source": [
    "\"A\" < \"a\""
   ]
  },
  {
   "cell_type": "code",
   "execution_count": null,
   "metadata": {},
   "outputs": [],
   "source": [
    "ord(\"a\")"
   ]
  },
  {
   "cell_type": "code",
   "execution_count": null,
   "metadata": {},
   "outputs": [],
   "source": [
    "ord(\"A\")"
   ]
  },
  {
   "cell_type": "code",
   "execution_count": null,
   "metadata": {},
   "outputs": [],
   "source": [
    "max(\"collecTion\")"
   ]
  },
  {
   "cell_type": "code",
   "execution_count": null,
   "metadata": {},
   "outputs": [],
   "source": [
    "\"collection\".count(\"l\")"
   ]
  },
  {
   "cell_type": "code",
   "execution_count": null,
   "metadata": {},
   "outputs": [],
   "source": [
    "cooper = 20"
   ]
  },
  {
   "cell_type": "code",
   "execution_count": null,
   "metadata": {},
   "outputs": [],
   "source": [
    "Cooper"
   ]
  },
  {
   "cell_type": "code",
   "execution_count": null,
   "metadata": {},
   "outputs": [],
   "source": [
    "s = \"collection\"\n",
    "s"
   ]
  },
  {
   "cell_type": "code",
   "execution_count": null,
   "metadata": {},
   "outputs": [],
   "source": [
    "s.index(\"e\")"
   ]
  },
  {
   "cell_type": "markdown",
   "metadata": {},
   "source": [
    "<font color = \"red\">Exercise</font> <br><br>\n",
    "Create the sequence \"blablabla\" by using the operator *. <br>\n",
    "Find the position of the second o in \"collection\".<br>\n",
    "Retrieve the word \"other\" from \"immunotherapy\" using subsetting.<br><br>"
   ]
  },
  {
   "cell_type": "code",
   "execution_count": null,
   "metadata": {},
   "outputs": [],
   "source": [
    "\"bla\"*3"
   ]
  },
  {
   "cell_type": "code",
   "execution_count": null,
   "metadata": {},
   "outputs": [],
   "source": [
    "s = \"another test\"\n",
    "subs = \"t\"\n",
    "s.index(subs, s.index(subs)+1)"
   ]
  },
  {
   "cell_type": "markdown",
   "metadata": {},
   "source": [
    "<b>String formatting</b> - much more in a future session.\n",
    "\n",
    "\n",
    "Python uses C-style string formatting to create new, formatted strings. The \"%\" operator is used to format a set of variables enclosed in a \"tuple\" (a fixed size list), together with a format string, which contains normal text together with \"argument specifiers\", special symbols like \"%s\" and \"%d\".\n",
    "\n",
    "\n",
    "%s - String (or any object with a string representation, like numbers) <br>\n",
    "%d - Integers<br>\n",
    "%f - Floating point numbers<br>\n",
    "%.&lt;n&gt;f - Floating point numbers with a fixed (n) amount of digits to the right of the dot.\n",
    "\n"
   ]
  },
  {
   "cell_type": "code",
   "execution_count": null,
   "metadata": {},
   "outputs": [],
   "source": [
    "name = \"John\"\n",
    "print(\"Hello, %s!\" % name)"
   ]
  },
  {
   "cell_type": "markdown",
   "metadata": {},
   "source": [
    "### Range - an immutable sequence of numbers"
   ]
  },
  {
   "cell_type": "markdown",
   "metadata": {},
   "source": [
    "It is commonly used for looping a specific number of times."
   ]
  },
  {
   "cell_type": "markdown",
   "metadata": {},
   "source": [
    "range(stop)<br>\n",
    "range(start, stop[, step])"
   ]
  },
  {
   "cell_type": "code",
   "execution_count": null,
   "metadata": {},
   "outputs": [],
   "source": [
    "dir(range)"
   ]
  },
  {
   "cell_type": "code",
   "execution_count": null,
   "metadata": {},
   "outputs": [],
   "source": [
    "\n",
    "list(range(10))"
   ]
  },
  {
   "cell_type": "code",
   "execution_count": null,
   "metadata": {},
   "outputs": [],
   "source": [
    "range(10)"
   ]
  },
  {
   "cell_type": "code",
   "execution_count": null,
   "metadata": {},
   "outputs": [],
   "source": [
    "list(range(5, 31, 5))"
   ]
  },
  {
   "cell_type": "code",
   "execution_count": null,
   "metadata": {},
   "outputs": [],
   "source": []
  },
  {
   "cell_type": "markdown",
   "metadata": {},
   "source": [
    "### List - a collection of elements, allows duplicates, is unorderred, and is mutable (changeable)"
   ]
  },
  {
   "cell_type": "markdown",
   "metadata": {},
   "source": [
    "A list may be constructed in several ways:<br>\n",
    "\n",
    "Using a pair of square brackets to denote the empty list: []<br>\n",
    "Using square brackets, separating items with commas: [a], [a, b, c]<br>\n",
    "Using a list comprehension: [x for x in iterable]<br>\n",
    "Using the type constructor: list() or list(iterable)<br>"
   ]
  },
  {
   "cell_type": "code",
   "execution_count": null,
   "metadata": {},
   "outputs": [],
   "source": [
    "dir(list)"
   ]
  },
  {
   "cell_type": "code",
   "execution_count": null,
   "metadata": {},
   "outputs": [],
   "source": [
    "patient_BMIs = [25, 18, 30, 16, 22, 32, 28]\n",
    "patient_BMIs"
   ]
  },
  {
   "cell_type": "markdown",
   "metadata": {},
   "source": [
    "Size/length of a list"
   ]
  },
  {
   "cell_type": "code",
   "execution_count": null,
   "metadata": {},
   "outputs": [],
   "source": [
    "len(patient_BMIs)"
   ]
  },
  {
   "cell_type": "markdown",
   "metadata": {},
   "source": [
    "Save the list in a different variable"
   ]
  },
  {
   "cell_type": "code",
   "execution_count": null,
   "metadata": {},
   "outputs": [],
   "source": [
    "patient_BMIs_followup = patient_BMIs \n",
    "patient_BMIs_followup"
   ]
  },
  {
   "cell_type": "markdown",
   "metadata": {},
   "source": [
    "Retrieve elements from a list subsetting/slicing"
   ]
  },
  {
   "cell_type": "code",
   "execution_count": null,
   "metadata": {},
   "outputs": [],
   "source": [
    "patient_BMIs_followup[2:4]"
   ]
  },
  {
   "cell_type": "markdown",
   "metadata": {},
   "source": [
    "Negative indexing - retrieving elements from the end of the list"
   ]
  },
  {
   "cell_type": "code",
   "execution_count": null,
   "metadata": {},
   "outputs": [],
   "source": [
    "patient_BMIs[-4:-1]"
   ]
  },
  {
   "cell_type": "markdown",
   "metadata": {},
   "source": [
    "Change a value in a list"
   ]
  },
  {
   "cell_type": "code",
   "execution_count": null,
   "metadata": {},
   "outputs": [],
   "source": [
    "patient_BMIs_followup[1] = 20\n",
    "patient_BMIs_followup"
   ]
  },
  {
   "cell_type": "code",
   "execution_count": null,
   "metadata": {},
   "outputs": [],
   "source": [
    "patient_BMIs"
   ]
  },
  {
   "cell_type": "markdown",
   "metadata": {},
   "source": [
    "patient_BMIs_followup and patient_BMIs are references to the same object<br>\n",
    "<b>When the referred object changes the values display for both referring variables change.</b>"
   ]
  },
  {
   "cell_type": "markdown",
   "metadata": {},
   "source": [
    "To make a copy of a list:<br> \n",
    "copy_list = initial_list[:] <br><br>\n",
    "Similarly we can do <br>\n",
    "copy_list = list(initial_list)"
   ]
  },
  {
   "cell_type": "code",
   "execution_count": null,
   "metadata": {},
   "outputs": [],
   "source": [
    "patient_BMIs_followup = patient_BMIs[:]\n",
    "# patient_BMIs_followup = list(patient_BMIs)"
   ]
  },
  {
   "cell_type": "code",
   "execution_count": null,
   "metadata": {},
   "outputs": [],
   "source": [
    "patient_BMIs_followup[2] = 27\n",
    "patient_BMIs_followup"
   ]
  },
  {
   "cell_type": "code",
   "execution_count": null,
   "metadata": {},
   "outputs": [],
   "source": [
    "patient_BMIs"
   ]
  },
  {
   "cell_type": "markdown",
   "metadata": {},
   "source": [
    "<img src=\"http://henry.precheur.org/python/list1.png\" width=200 />\n",
    "<img src=\"http://henry.precheur.org/python/list2.png\" width=200 />"
   ]
  },
  {
   "cell_type": "markdown",
   "metadata": {},
   "source": [
    "To copy a list through subsetting works ... until it doesn't.<br>\n",
    "When the list contains sublists.\n",
    "The copy module has a deepcopy funtion."
   ]
  },
  {
   "cell_type": "markdown",
   "metadata": {},
   "source": [
    "Add elements to a list"
   ]
  },
  {
   "cell_type": "code",
   "execution_count": null,
   "metadata": {},
   "outputs": [],
   "source": [
    "patient_BMIs.append(26)\n",
    "patient_BMIs"
   ]
  },
  {
   "cell_type": "code",
   "execution_count": null,
   "metadata": {},
   "outputs": [],
   "source": [
    "patient_BMIs.sort()"
   ]
  },
  {
   "cell_type": "code",
   "execution_count": null,
   "metadata": {},
   "outputs": [],
   "source": [
    "patient_BMIs"
   ]
  },
  {
   "cell_type": "code",
   "execution_count": null,
   "metadata": {},
   "outputs": [],
   "source": [
    "patient_BMIs.append(\"test\")\n",
    "patient_BMIs"
   ]
  },
  {
   "cell_type": "code",
   "execution_count": null,
   "metadata": {},
   "outputs": [],
   "source": [
    "patient_BMIs.append([35,\"text\"])\n",
    "patient_BMIs"
   ]
  },
  {
   "cell_type": "code",
   "execution_count": null,
   "metadata": {},
   "outputs": [],
   "source": [
    "patient_BMIs.extend([22,26,33])\n",
    "patient_BMIs"
   ]
  },
  {
   "cell_type": "code",
   "execution_count": null,
   "metadata": {},
   "outputs": [],
   "source": [
    "\"\"\"insert an element at a certain position\n",
    "insert(position, element)\"\"\"\n",
    "patient_BMIs.insert(3,29)\n",
    "patient_BMIs"
   ]
  },
  {
   "cell_type": "markdown",
   "metadata": {},
   "source": [
    "Change list elements"
   ]
  },
  {
   "cell_type": "code",
   "execution_count": null,
   "metadata": {},
   "outputs": [],
   "source": [
    "patient_BMIs[3:5] = [25,25]\n",
    "patient_BMIs"
   ]
  },
  {
   "cell_type": "code",
   "execution_count": null,
   "metadata": {},
   "outputs": [],
   "source": [
    "patient_BMIs[3:6] = [20,20,30,31]\n",
    "patient_BMIs"
   ]
  },
  {
   "cell_type": "code",
   "execution_count": null,
   "metadata": {
    "scrolled": true
   },
   "outputs": [],
   "source": [
    "patient_BMIs.sort()"
   ]
  },
  {
   "cell_type": "code",
   "execution_count": null,
   "metadata": {},
   "outputs": [],
   "source": [
    "patient_BMIs"
   ]
  },
  {
   "cell_type": "code",
   "execution_count": null,
   "metadata": {},
   "outputs": [],
   "source": [
    "patient_BMIs.index(20)"
   ]
  },
  {
   "cell_type": "code",
   "execution_count": null,
   "metadata": {},
   "outputs": [],
   "source": [
    "patient_BMIs.count(20)"
   ]
  },
  {
   "cell_type": "code",
   "execution_count": null,
   "metadata": {},
   "outputs": [],
   "source": [
    "20 in patient_BMIs"
   ]
  },
  {
   "cell_type": "markdown",
   "metadata": {},
   "source": [
    "Remove list elements"
   ]
  },
  {
   "cell_type": "markdown",
   "metadata": {},
   "source": [
    "<b>remove()</b> removes the first matching value, not a specific index."
   ]
  },
  {
   "cell_type": "code",
   "execution_count": null,
   "metadata": {},
   "outputs": [],
   "source": [
    "patient_BMIs.remove(22)\n",
    "patient_BMIs"
   ]
  },
  {
   "cell_type": "markdown",
   "metadata": {},
   "source": [
    "<b>del</b> removes the item at a specific index."
   ]
  },
  {
   "cell_type": "code",
   "execution_count": null,
   "metadata": {},
   "outputs": [],
   "source": [
    "del patient_BMIs[4]\n",
    "patient_BMIs"
   ]
  },
  {
   "cell_type": "markdown",
   "metadata": {},
   "source": [
    "<b>pop()</b> removes the item at a specific index and returns it."
   ]
  },
  {
   "cell_type": "code",
   "execution_count": null,
   "metadata": {},
   "outputs": [],
   "source": [
    "patient_BMIs.pop(4)\n"
   ]
  },
  {
   "cell_type": "code",
   "execution_count": null,
   "metadata": {},
   "outputs": [],
   "source": [
    "patient_BMIs"
   ]
  },
  {
   "cell_type": "markdown",
   "metadata": {},
   "source": [
    "<b>clear()</b> removes all the elements of a list"
   ]
  },
  {
   "cell_type": "code",
   "execution_count": null,
   "metadata": {},
   "outputs": [],
   "source": [
    "patient_BMIs.clear()\n",
    "patient_BMIs"
   ]
  },
  {
   "cell_type": "markdown",
   "metadata": {},
   "source": [
    "<b>String join()</b>"
   ]
  },
  {
   "cell_type": "code",
   "execution_count": null,
   "metadata": {},
   "outputs": [],
   "source": [
    "\",\".join([\"Make\",\"a\",\"sentence.\"])"
   ]
  },
  {
   "cell_type": "markdown",
   "metadata": {},
   "source": [
    "<b>String split()</b>"
   ]
  },
  {
   "cell_type": "code",
   "execution_count": null,
   "metadata": {},
   "outputs": [],
   "source": [
    "\"Get the, words\".split(\",\")"
   ]
  }
 ],
 "metadata": {
  "kernelspec": {
   "display_name": "Python 3",
   "language": "python",
   "name": "python3"
  },
  "language_info": {
   "codemirror_mode": {
    "name": "ipython",
    "version": 3
   },
   "file_extension": ".py",
   "mimetype": "text/x-python",
   "name": "python",
   "nbconvert_exporter": "python",
   "pygments_lexer": "ipython3",
   "version": "3.8.3"
  }
 },
 "nbformat": 4,
 "nbformat_minor": 4
}
